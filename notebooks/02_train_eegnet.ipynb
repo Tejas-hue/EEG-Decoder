# Download data (idempotent) and run a short training
!python scripts/download_data.py
!python train_eegnet.py --data-root data/physionet_raw --epochs 3 --batch-size 64 --resample-hz 128 --tmax 4.0 --seed 123 --model-out models/eegnet_motor_imagery.keras# Train EEGNet on EEGMMI

Runs the training script and shows logs.