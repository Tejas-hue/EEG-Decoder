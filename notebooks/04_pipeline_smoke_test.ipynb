# Adjust epochs low to validate the pipeline quickly
!python scripts/validate_data.py --data-root data/physionet_raw
!python scripts/preprocess_eeg.py --data-root data/physionet_raw --out-root data/processed --resample-hz 128 --tmin 0.0 --tmax 4.0
!python train_eegnet.py --data-root data/physionet_raw --epochs 2 --batch-size 64 --resample-hz 128 --tmax 4.0 --seed 123 --model-out models/eegnet_motor_imagery.keras
!python scripts/evaluate.py --data-root data/physionet_raw --model models/eegnet_motor_imagery.keras --batch-size 128 --seed 123 --out-dir logs# Pipeline Smoke Test

End-to-end quick test: validate data, preprocess a bit, short train, evaluate.