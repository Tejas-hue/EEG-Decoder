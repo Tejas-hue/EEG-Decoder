import os
import mne
import numpy as np

data_root = os.path.join('data','physionet_raw')
print('Data root:', data_root)
subjects = sorted([d for d in os.listdir(data_root) if d.startswith('S') and os.path.isdir(os.path.join(data_root,d))])
len(subjects), subjects[:5]# Explore EEGMMI Data

List subjects, sessions, and inspect events/channels.