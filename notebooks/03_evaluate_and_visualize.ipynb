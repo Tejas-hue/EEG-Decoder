# Evaluate a saved model and display confusion matrix
!python scripts/evaluate.py --data-root data/physionet_raw --model models/eegnet_motor_imagery.keras --batch-size 128 --seed 123 --out-dir logs
from IPython.display import Image, display
display(Image('logs/confusion_matrix.png'))# Evaluate and Visualize

Compute classification report and confusion matrix.